{
 "cells": [
  {
   "cell_type": "code",
   "execution_count": 1,
   "id": "581bf7cc",
   "metadata": {
    "_cell_guid": "b1076dfc-b9ad-4769-8c92-a6c4dae69d19",
    "_uuid": "8f2839f25d086af736a60e9eeb907d3b93b6e0e5",
    "execution": {
     "iopub.execute_input": "2022-12-20T17:53:51.837904Z",
     "iopub.status.busy": "2022-12-20T17:53:51.837527Z",
     "iopub.status.idle": "2022-12-20T17:53:52.658634Z",
     "shell.execute_reply": "2022-12-20T17:53:52.657673Z"
    },
    "papermill": {
     "duration": 0.829332,
     "end_time": "2022-12-20T17:53:52.660551",
     "exception": false,
     "start_time": "2022-12-20T17:53:51.831219",
     "status": "completed"
    },
    "tags": []
   },
   "outputs": [
    {
     "name": "stdout",
     "output_type": "stream",
     "text": [
      "/kaggle/input/us-accidents/US_Accidents_Dec21_updated.csv\n"
     ]
    }
   ],
   "source": [
    "#Import necessory Libraries\n",
    "import numpy as np # linear algebra\n",
    "import pandas as pd # data processing, CSV file I/O (e.g. pd.read_csv)\n",
    "import  matplotlib.pyplot as plt\n",
    "import seaborn as sns\n",
    "\n",
    "# List all files under the input directory\n",
    "import os\n",
    "for dirname, _, filenames in os.walk('/kaggle/input'):\n",
    "    for filename in filenames:\n",
    "        print(os.path.join(dirname, filename))"
   ]
  },
  {
   "cell_type": "markdown",
   "id": "fee72d29",
   "metadata": {
    "papermill": {
     "duration": 0.003592,
     "end_time": "2022-12-20T17:53:52.668236",
     "exception": false,
     "start_time": "2022-12-20T17:53:52.664644",
     "status": "completed"
    },
    "tags": []
   },
   "source": [
    "# US ACCIDENTS EXPLORATORY DATA ANALYSIS- START YEAR - END YEAR\n",
    "TODO - Talk about EDA\\\n",
    "TODO - Talk about the dataset (Source, what it contains, how it will be useful)\\\n",
    " -Kaggle\\\n",
    " -Information about accidents\\\n",
    " -Can be useful to prevent accidents\n"
   ]
  },
  {
   "cell_type": "markdown",
   "id": "a156e523",
   "metadata": {
    "papermill": {
     "duration": 0.00356,
     "end_time": "2022-12-20T17:53:52.675629",
     "exception": false,
     "start_time": "2022-12-20T17:53:52.672069",
     "status": "completed"
    },
    "tags": []
   },
   "source": [
    "## DATA IMPORT"
   ]
  },
  {
   "cell_type": "code",
   "execution_count": 2,
   "id": "25845b16",
   "metadata": {
    "execution": {
     "iopub.execute_input": "2022-12-20T17:53:52.684949Z",
     "iopub.status.busy": "2022-12-20T17:53:52.684293Z",
     "iopub.status.idle": "2022-12-20T17:54:24.645789Z",
     "shell.execute_reply": "2022-12-20T17:54:24.644813Z"
    },
    "papermill": {
     "duration": 31.968547,
     "end_time": "2022-12-20T17:54:24.647923",
     "exception": false,
     "start_time": "2022-12-20T17:53:52.679376",
     "status": "completed"
    },
    "tags": []
   },
   "outputs": [],
   "source": [
    "df = pd.read_csv('/kaggle/input/us-accidents/US_Accidents_Dec21_updated.csv')"
   ]
  },
  {
   "cell_type": "markdown",
   "id": "a9dc8f33",
   "metadata": {
    "papermill": {
     "duration": 0.003537,
     "end_time": "2022-12-20T17:54:24.655607",
     "exception": false,
     "start_time": "2022-12-20T17:54:24.652070",
     "status": "completed"
    },
    "tags": []
   },
   "source": [
    "## DATA PREPARATION AND CLEANING"
   ]
  },
  {
   "cell_type": "code",
   "execution_count": 3,
   "id": "a6f6bc9f",
   "metadata": {
    "execution": {
     "iopub.execute_input": "2022-12-20T17:54:24.664847Z",
     "iopub.status.busy": "2022-12-20T17:54:24.664507Z",
     "iopub.status.idle": "2022-12-20T17:54:24.686068Z",
     "shell.execute_reply": "2022-12-20T17:54:24.684598Z"
    },
    "papermill": {
     "duration": 0.028631,
     "end_time": "2022-12-20T17:54:24.688128",
     "exception": false,
     "start_time": "2022-12-20T17:54:24.659497",
     "status": "completed"
    },
    "tags": []
   },
   "outputs": [
    {
     "name": "stdout",
     "output_type": "stream",
     "text": [
      "Shape of the dataset = (2845342, 47)\n",
      "Top 5 rows\n",
      "    ID  Severity           Start_Time             End_Time  Start_Lat  \\\n",
      "0  A-1         3  2016-02-08 00:37:08  2016-02-08 06:37:08  40.108910   \n",
      "1  A-2         2  2016-02-08 05:56:20  2016-02-08 11:56:20  39.865420   \n",
      "2  A-3         2  2016-02-08 06:15:39  2016-02-08 12:15:39  39.102660   \n",
      "3  A-4         2  2016-02-08 06:51:45  2016-02-08 12:51:45  41.062130   \n",
      "4  A-5         3  2016-02-08 07:53:43  2016-02-08 13:53:43  39.172393   \n",
      "\n",
      "   Start_Lng    End_Lat    End_Lng  Distance(mi)  \\\n",
      "0 -83.092860  40.112060 -83.031870         3.230   \n",
      "1 -84.062800  39.865010 -84.048730         0.747   \n",
      "2 -84.524680  39.102090 -84.523960         0.055   \n",
      "3 -81.537840  41.062170 -81.535470         0.123   \n",
      "4 -84.492792  39.170476 -84.501798         0.500   \n",
      "\n",
      "                                         Description  ...  Roundabout Station  \\\n",
      "0  Between Sawmill Rd/Exit 20 and OH-315/Olentang...  ...       False   False   \n",
      "1                 At OH-4/OH-235/Exit 41 - Accident.  ...       False   False   \n",
      "2                   At I-71/US-50/Exit 1 - Accident.  ...       False   False   \n",
      "3                    At Dart Ave/Exit 21 - Accident.  ...       False   False   \n",
      "4                 At Mitchell Ave/Exit 6 - Accident.  ...       False   False   \n",
      "\n",
      "    Stop Traffic_Calming Traffic_Signal Turning_Loop Sunrise_Sunset  \\\n",
      "0  False           False          False        False          Night   \n",
      "1  False           False          False        False          Night   \n",
      "2  False           False          False        False          Night   \n",
      "3  False           False          False        False          Night   \n",
      "4  False           False          False        False            Day   \n",
      "\n",
      "  Civil_Twilight Nautical_Twilight Astronomical_Twilight  \n",
      "0          Night             Night                 Night  \n",
      "1          Night             Night                 Night  \n",
      "2          Night             Night                   Day  \n",
      "3          Night               Day                   Day  \n",
      "4            Day               Day                   Day  \n",
      "\n",
      "[5 rows x 47 columns]\n"
     ]
    }
   ],
   "source": [
    "print('Shape of the dataset =',df.shape)\n",
    "print('Top 5 rows')\n",
    "print(df.head(5))"
   ]
  },
  {
   "cell_type": "code",
   "execution_count": 4,
   "id": "4acbe6f6",
   "metadata": {
    "execution": {
     "iopub.execute_input": "2022-12-20T17:54:24.698072Z",
     "iopub.status.busy": "2022-12-20T17:54:24.697731Z",
     "iopub.status.idle": "2022-12-20T17:54:24.710641Z",
     "shell.execute_reply": "2022-12-20T17:54:24.709958Z"
    },
    "papermill": {
     "duration": 0.020179,
     "end_time": "2022-12-20T17:54:24.712660",
     "exception": false,
     "start_time": "2022-12-20T17:54:24.692481",
     "status": "completed"
    },
    "tags": []
   },
   "outputs": [
    {
     "name": "stdout",
     "output_type": "stream",
     "text": [
      "Bottom 5 rows\n",
      "                ID  Severity           Start_Time             End_Time  \\\n",
      "2845337  A-2845338         2  2019-08-23 18:03:25  2019-08-23 18:32:01   \n",
      "2845338  A-2845339         2  2019-08-23 19:11:30  2019-08-23 19:38:23   \n",
      "2845339  A-2845340         2  2019-08-23 19:00:21  2019-08-23 19:28:49   \n",
      "2845340  A-2845341         2  2019-08-23 19:00:21  2019-08-23 19:29:42   \n",
      "2845341  A-2845342         2  2019-08-23 18:52:06  2019-08-23 19:21:31   \n",
      "\n",
      "         Start_Lat  Start_Lng   End_Lat    End_Lng  Distance(mi)  \\\n",
      "2845337   34.00248 -117.37936  33.99888 -117.37094         0.543   \n",
      "2845338   32.76696 -117.14806  32.76555 -117.15363         0.338   \n",
      "2845339   33.77545 -117.84779  33.77740 -117.85727         0.561   \n",
      "2845340   33.99246 -118.40302  33.98311 -118.39565         0.772   \n",
      "2845341   34.13393 -117.23092  34.13736 -117.23934         0.537   \n",
      "\n",
      "                                               Description  ...  Roundabout  \\\n",
      "2845337                           At Market St - Accident.  ...       False   \n",
      "2845338    At Camino Del Rio/Mission Center Rd - Accident.  ...       False   \n",
      "2845339  At Glassell St/Grand Ave - Accident. in the ri...  ...       False   \n",
      "2845340     At CA-90/Marina Fwy/Jefferson Blvd - Accident.  ...       False   \n",
      "2845341              At Highland Ave/Arden Ave - Accident.  ...       False   \n",
      "\n",
      "        Station   Stop Traffic_Calming Traffic_Signal Turning_Loop  \\\n",
      "2845337   False  False           False          False        False   \n",
      "2845338   False  False           False          False        False   \n",
      "2845339   False  False           False          False        False   \n",
      "2845340   False  False           False          False        False   \n",
      "2845341   False  False           False          False        False   \n",
      "\n",
      "        Sunrise_Sunset Civil_Twilight Nautical_Twilight Astronomical_Twilight  \n",
      "2845337            Day            Day               Day                   Day  \n",
      "2845338            Day            Day               Day                   Day  \n",
      "2845339            Day            Day               Day                   Day  \n",
      "2845340            Day            Day               Day                   Day  \n",
      "2845341            Day            Day               Day                   Day  \n",
      "\n",
      "[5 rows x 47 columns]\n"
     ]
    }
   ],
   "source": [
    "print('Bottom 5 rows')\n",
    "print(df.tail(5))"
   ]
  },
  {
   "cell_type": "code",
   "execution_count": 5,
   "id": "c5f83bd8",
   "metadata": {
    "execution": {
     "iopub.execute_input": "2022-12-20T17:54:24.724258Z",
     "iopub.status.busy": "2022-12-20T17:54:24.723203Z",
     "iopub.status.idle": "2022-12-20T17:54:24.730348Z",
     "shell.execute_reply": "2022-12-20T17:54:24.729044Z"
    },
    "papermill": {
     "duration": 0.014745,
     "end_time": "2022-12-20T17:54:24.732504",
     "exception": false,
     "start_time": "2022-12-20T17:54:24.717759",
     "status": "completed"
    },
    "tags": []
   },
   "outputs": [
    {
     "name": "stdout",
     "output_type": "stream",
     "text": [
      "Name of Columns =  Index(['ID', 'Severity', 'Start_Time', 'End_Time', 'Start_Lat', 'Start_Lng',\n",
      "       'End_Lat', 'End_Lng', 'Distance(mi)', 'Description', 'Number', 'Street',\n",
      "       'Side', 'City', 'County', 'State', 'Zipcode', 'Country', 'Timezone',\n",
      "       'Airport_Code', 'Weather_Timestamp', 'Temperature(F)', 'Wind_Chill(F)',\n",
      "       'Humidity(%)', 'Pressure(in)', 'Visibility(mi)', 'Wind_Direction',\n",
      "       'Wind_Speed(mph)', 'Precipitation(in)', 'Weather_Condition', 'Amenity',\n",
      "       'Bump', 'Crossing', 'Give_Way', 'Junction', 'No_Exit', 'Railway',\n",
      "       'Roundabout', 'Station', 'Stop', 'Traffic_Calming', 'Traffic_Signal',\n",
      "       'Turning_Loop', 'Sunrise_Sunset', 'Civil_Twilight', 'Nautical_Twilight',\n",
      "       'Astronomical_Twilight'],\n",
      "      dtype='object')\n",
      "Number of columns:  47\n"
     ]
    }
   ],
   "source": [
    "#Name of Columns\n",
    "print('Name of Columns = ',df.columns)\n",
    "#Number of columns\n",
    "print('Number of columns: ',len(df.columns))"
   ]
  },
  {
   "cell_type": "code",
   "execution_count": 6,
   "id": "a0ef59a8",
   "metadata": {
    "execution": {
     "iopub.execute_input": "2022-12-20T17:54:24.742853Z",
     "iopub.status.busy": "2022-12-20T17:54:24.742526Z",
     "iopub.status.idle": "2022-12-20T17:54:24.762700Z",
     "shell.execute_reply": "2022-12-20T17:54:24.761890Z"
    },
    "papermill": {
     "duration": 0.028345,
     "end_time": "2022-12-20T17:54:24.765381",
     "exception": false,
     "start_time": "2022-12-20T17:54:24.737036",
     "status": "completed"
    },
    "tags": []
   },
   "outputs": [
    {
     "name": "stdout",
     "output_type": "stream",
     "text": [
      "<class 'pandas.core.frame.DataFrame'>\n",
      "RangeIndex: 2845342 entries, 0 to 2845341\n",
      "Data columns (total 47 columns):\n",
      " #   Column                 Dtype  \n",
      "---  ------                 -----  \n",
      " 0   ID                     object \n",
      " 1   Severity               int64  \n",
      " 2   Start_Time             object \n",
      " 3   End_Time               object \n",
      " 4   Start_Lat              float64\n",
      " 5   Start_Lng              float64\n",
      " 6   End_Lat                float64\n",
      " 7   End_Lng                float64\n",
      " 8   Distance(mi)           float64\n",
      " 9   Description            object \n",
      " 10  Number                 float64\n",
      " 11  Street                 object \n",
      " 12  Side                   object \n",
      " 13  City                   object \n",
      " 14  County                 object \n",
      " 15  State                  object \n",
      " 16  Zipcode                object \n",
      " 17  Country                object \n",
      " 18  Timezone               object \n",
      " 19  Airport_Code           object \n",
      " 20  Weather_Timestamp      object \n",
      " 21  Temperature(F)         float64\n",
      " 22  Wind_Chill(F)          float64\n",
      " 23  Humidity(%)            float64\n",
      " 24  Pressure(in)           float64\n",
      " 25  Visibility(mi)         float64\n",
      " 26  Wind_Direction         object \n",
      " 27  Wind_Speed(mph)        float64\n",
      " 28  Precipitation(in)      float64\n",
      " 29  Weather_Condition      object \n",
      " 30  Amenity                bool   \n",
      " 31  Bump                   bool   \n",
      " 32  Crossing               bool   \n",
      " 33  Give_Way               bool   \n",
      " 34  Junction               bool   \n",
      " 35  No_Exit                bool   \n",
      " 36  Railway                bool   \n",
      " 37  Roundabout             bool   \n",
      " 38  Station                bool   \n",
      " 39  Stop                   bool   \n",
      " 40  Traffic_Calming        bool   \n",
      " 41  Traffic_Signal         bool   \n",
      " 42  Turning_Loop           bool   \n",
      " 43  Sunrise_Sunset         object \n",
      " 44  Civil_Twilight         object \n",
      " 45  Nautical_Twilight      object \n",
      " 46  Astronomical_Twilight  object \n",
      "dtypes: bool(13), float64(13), int64(1), object(20)\n",
      "memory usage: 773.4+ MB\n"
     ]
    }
   ],
   "source": [
    "#information about dataset\n",
    "df.info()"
   ]
  },
  {
   "cell_type": "code",
   "execution_count": 7,
   "id": "615d4234",
   "metadata": {
    "execution": {
     "iopub.execute_input": "2022-12-20T17:54:24.776316Z",
     "iopub.status.busy": "2022-12-20T17:54:24.775312Z",
     "iopub.status.idle": "2022-12-20T17:54:26.083692Z",
     "shell.execute_reply": "2022-12-20T17:54:26.082491Z"
    },
    "papermill": {
     "duration": 1.315747,
     "end_time": "2022-12-20T17:54:26.085555",
     "exception": false,
     "start_time": "2022-12-20T17:54:24.769808",
     "status": "completed"
    },
    "tags": []
   },
   "outputs": [
    {
     "data": {
      "text/html": [
       "<div>\n",
       "<style scoped>\n",
       "    .dataframe tbody tr th:only-of-type {\n",
       "        vertical-align: middle;\n",
       "    }\n",
       "\n",
       "    .dataframe tbody tr th {\n",
       "        vertical-align: top;\n",
       "    }\n",
       "\n",
       "    .dataframe thead th {\n",
       "        text-align: right;\n",
       "    }\n",
       "</style>\n",
       "<table border=\"1\" class=\"dataframe\">\n",
       "  <thead>\n",
       "    <tr style=\"text-align: right;\">\n",
       "      <th></th>\n",
       "      <th>Severity</th>\n",
       "      <th>Start_Lat</th>\n",
       "      <th>Start_Lng</th>\n",
       "      <th>End_Lat</th>\n",
       "      <th>End_Lng</th>\n",
       "      <th>Distance(mi)</th>\n",
       "      <th>Number</th>\n",
       "      <th>Temperature(F)</th>\n",
       "      <th>Wind_Chill(F)</th>\n",
       "      <th>Humidity(%)</th>\n",
       "      <th>Pressure(in)</th>\n",
       "      <th>Visibility(mi)</th>\n",
       "      <th>Wind_Speed(mph)</th>\n",
       "      <th>Precipitation(in)</th>\n",
       "    </tr>\n",
       "  </thead>\n",
       "  <tbody>\n",
       "    <tr>\n",
       "      <th>count</th>\n",
       "      <td>2845342</td>\n",
       "      <td>2845342</td>\n",
       "      <td>2845342</td>\n",
       "      <td>2845342</td>\n",
       "      <td>2845342</td>\n",
       "      <td>2845342</td>\n",
       "      <td>1101431</td>\n",
       "      <td>2776068</td>\n",
       "      <td>2375699</td>\n",
       "      <td>2772250</td>\n",
       "      <td>2786142</td>\n",
       "      <td>2774796</td>\n",
       "      <td>2687398</td>\n",
       "      <td>2295884</td>\n",
       "    </tr>\n",
       "    <tr>\n",
       "      <th>mean</th>\n",
       "      <td>2</td>\n",
       "      <td>36</td>\n",
       "      <td>-97</td>\n",
       "      <td>36</td>\n",
       "      <td>-97</td>\n",
       "      <td>0</td>\n",
       "      <td>8089</td>\n",
       "      <td>61</td>\n",
       "      <td>59</td>\n",
       "      <td>64</td>\n",
       "      <td>29</td>\n",
       "      <td>9</td>\n",
       "      <td>7</td>\n",
       "      <td>0</td>\n",
       "    </tr>\n",
       "    <tr>\n",
       "      <th>std</th>\n",
       "      <td>0</td>\n",
       "      <td>5</td>\n",
       "      <td>18</td>\n",
       "      <td>5</td>\n",
       "      <td>18</td>\n",
       "      <td>1</td>\n",
       "      <td>18360</td>\n",
       "      <td>18</td>\n",
       "      <td>21</td>\n",
       "      <td>22</td>\n",
       "      <td>1</td>\n",
       "      <td>2</td>\n",
       "      <td>5</td>\n",
       "      <td>0</td>\n",
       "    </tr>\n",
       "    <tr>\n",
       "      <th>min</th>\n",
       "      <td>1</td>\n",
       "      <td>24</td>\n",
       "      <td>-124</td>\n",
       "      <td>24</td>\n",
       "      <td>-124</td>\n",
       "      <td>0</td>\n",
       "      <td>0</td>\n",
       "      <td>-89</td>\n",
       "      <td>-89</td>\n",
       "      <td>1</td>\n",
       "      <td>0</td>\n",
       "      <td>0</td>\n",
       "      <td>0</td>\n",
       "      <td>0</td>\n",
       "    </tr>\n",
       "    <tr>\n",
       "      <th>25%</th>\n",
       "      <td>2</td>\n",
       "      <td>33</td>\n",
       "      <td>-118</td>\n",
       "      <td>33</td>\n",
       "      <td>-118</td>\n",
       "      <td>0</td>\n",
       "      <td>1270</td>\n",
       "      <td>50</td>\n",
       "      <td>46</td>\n",
       "      <td>48</td>\n",
       "      <td>29</td>\n",
       "      <td>10</td>\n",
       "      <td>3</td>\n",
       "      <td>0</td>\n",
       "    </tr>\n",
       "    <tr>\n",
       "      <th>50%</th>\n",
       "      <td>2</td>\n",
       "      <td>36</td>\n",
       "      <td>-92</td>\n",
       "      <td>36</td>\n",
       "      <td>-92</td>\n",
       "      <td>0</td>\n",
       "      <td>4007</td>\n",
       "      <td>64</td>\n",
       "      <td>63</td>\n",
       "      <td>67</td>\n",
       "      <td>29</td>\n",
       "      <td>10</td>\n",
       "      <td>7</td>\n",
       "      <td>0</td>\n",
       "    </tr>\n",
       "    <tr>\n",
       "      <th>75%</th>\n",
       "      <td>2</td>\n",
       "      <td>40</td>\n",
       "      <td>-80</td>\n",
       "      <td>40</td>\n",
       "      <td>-80</td>\n",
       "      <td>0</td>\n",
       "      <td>9567</td>\n",
       "      <td>76</td>\n",
       "      <td>76</td>\n",
       "      <td>83</td>\n",
       "      <td>30</td>\n",
       "      <td>10</td>\n",
       "      <td>10</td>\n",
       "      <td>0</td>\n",
       "    </tr>\n",
       "    <tr>\n",
       "      <th>max</th>\n",
       "      <td>4</td>\n",
       "      <td>49</td>\n",
       "      <td>-67</td>\n",
       "      <td>49</td>\n",
       "      <td>-67</td>\n",
       "      <td>155</td>\n",
       "      <td>9999997</td>\n",
       "      <td>196</td>\n",
       "      <td>196</td>\n",
       "      <td>100</td>\n",
       "      <td>58</td>\n",
       "      <td>140</td>\n",
       "      <td>1087</td>\n",
       "      <td>24</td>\n",
       "    </tr>\n",
       "  </tbody>\n",
       "</table>\n",
       "</div>"
      ],
      "text/plain": [
       "       Severity  Start_Lat  Start_Lng  End_Lat  End_Lng  Distance(mi)  \\\n",
       "count   2845342    2845342    2845342  2845342  2845342       2845342   \n",
       "mean          2         36        -97       36      -97             0   \n",
       "std           0          5         18        5       18             1   \n",
       "min           1         24       -124       24     -124             0   \n",
       "25%           2         33       -118       33     -118             0   \n",
       "50%           2         36        -92       36      -92             0   \n",
       "75%           2         40        -80       40      -80             0   \n",
       "max           4         49        -67       49      -67           155   \n",
       "\n",
       "        Number  Temperature(F)  Wind_Chill(F)  Humidity(%)  Pressure(in)  \\\n",
       "count  1101431         2776068        2375699      2772250       2786142   \n",
       "mean      8089              61             59           64            29   \n",
       "std      18360              18             21           22             1   \n",
       "min          0             -89            -89            1             0   \n",
       "25%       1270              50             46           48            29   \n",
       "50%       4007              64             63           67            29   \n",
       "75%       9567              76             76           83            30   \n",
       "max    9999997             196            196          100            58   \n",
       "\n",
       "       Visibility(mi)  Wind_Speed(mph)  Precipitation(in)  \n",
       "count         2774796          2687398            2295884  \n",
       "mean                9                7                  0  \n",
       "std                 2                5                  0  \n",
       "min                 0                0                  0  \n",
       "25%                10                3                  0  \n",
       "50%                10                7                  0  \n",
       "75%                10               10                  0  \n",
       "max               140             1087                 24  "
      ]
     },
     "execution_count": 7,
     "metadata": {},
     "output_type": "execute_result"
    }
   ],
   "source": [
    "#Describe the dataset\n",
    "df.describe().astype(int)"
   ]
  },
  {
   "cell_type": "code",
   "execution_count": 8,
   "id": "39302def",
   "metadata": {
    "execution": {
     "iopub.execute_input": "2022-12-20T17:54:26.097624Z",
     "iopub.status.busy": "2022-12-20T17:54:26.097244Z",
     "iopub.status.idle": "2022-12-20T17:54:26.104632Z",
     "shell.execute_reply": "2022-12-20T17:54:26.103938Z"
    },
    "papermill": {
     "duration": 0.015037,
     "end_time": "2022-12-20T17:54:26.106317",
     "exception": false,
     "start_time": "2022-12-20T17:54:26.091280",
     "status": "completed"
    },
    "tags": []
   },
   "outputs": [
    {
     "data": {
      "text/plain": [
       "0      Night\n",
       "1      Night\n",
       "2      Night\n",
       "3      Night\n",
       "4        Day\n",
       "       ...  \n",
       "105      Day\n",
       "106      Day\n",
       "107      Day\n",
       "108      Day\n",
       "109      Day\n",
       "Name: Civil_Twilight, Length: 110, dtype: object"
      ]
     },
     "execution_count": 8,
     "metadata": {},
     "output_type": "execute_result"
    }
   ],
   "source": [
    "#df.Sunrise_Sunset.value_counts()\n",
    "df.Civil_Twilight.head(110)"
   ]
  },
  {
   "cell_type": "code",
   "execution_count": 9,
   "id": "fff24b76",
   "metadata": {
    "execution": {
     "iopub.execute_input": "2022-12-20T17:54:26.117361Z",
     "iopub.status.busy": "2022-12-20T17:54:26.117018Z",
     "iopub.status.idle": "2022-12-20T17:54:26.185777Z",
     "shell.execute_reply": "2022-12-20T17:54:26.184991Z"
    },
    "papermill": {
     "duration": 0.076375,
     "end_time": "2022-12-20T17:54:26.187563",
     "exception": false,
     "start_time": "2022-12-20T17:54:26.111188",
     "status": "completed"
    },
    "tags": []
   },
   "outputs": [
    {
     "data": {
      "text/plain": [
       "Index(['Severity', 'Start_Lat', 'Start_Lng', 'End_Lat', 'End_Lng',\n",
       "       'Distance(mi)', 'Number', 'Temperature(F)', 'Wind_Chill(F)',\n",
       "       'Humidity(%)', 'Pressure(in)', 'Visibility(mi)', 'Wind_Speed(mph)',\n",
       "       'Precipitation(in)'],\n",
       "      dtype='object')"
      ]
     },
     "execution_count": 9,
     "metadata": {},
     "output_type": "execute_result"
    }
   ],
   "source": [
    "#select only numeric columns\n",
    "numeric_df = df.select_dtypes(include = 'number')\n",
    "numeric_df.columns"
   ]
  },
  {
   "cell_type": "markdown",
   "id": "a083264b",
   "metadata": {
    "papermill": {
     "duration": 0.004844,
     "end_time": "2022-12-20T17:54:26.197593",
     "exception": false,
     "start_time": "2022-12-20T17:54:26.192749",
     "status": "completed"
    },
    "tags": []
   },
   "source": [
    "### Handling Missing values"
   ]
  },
  {
   "cell_type": "code",
   "execution_count": 10,
   "id": "caa67f49",
   "metadata": {
    "execution": {
     "iopub.execute_input": "2022-12-20T17:54:26.209316Z",
     "iopub.status.busy": "2022-12-20T17:54:26.208956Z",
     "iopub.status.idle": "2022-12-20T17:54:28.233282Z",
     "shell.execute_reply": "2022-12-20T17:54:28.232284Z"
    },
    "papermill": {
     "duration": 2.032712,
     "end_time": "2022-12-20T17:54:28.235342",
     "exception": false,
     "start_time": "2022-12-20T17:54:26.202630",
     "status": "completed"
    },
    "tags": []
   },
   "outputs": [
    {
     "data": {
      "text/plain": [
       "Number                   61.0\n",
       "Precipitation(in)        19.0\n",
       "Wind_Chill(F)            17.0\n",
       "Wind_Speed(mph)           6.0\n",
       "Wind_Direction            3.0\n",
       "Humidity(%)               3.0\n",
       "Weather_Condition         2.0\n",
       "Visibility(mi)            2.0\n",
       "Temperature(F)            2.0\n",
       "Pressure(in)              2.0\n",
       "Weather_Timestamp         2.0\n",
       "Airport_Code              0.0\n",
       "Timezone                  0.0\n",
       "Nautical_Twilight         0.0\n",
       "Civil_Twilight            0.0\n",
       "Sunrise_Sunset            0.0\n",
       "Astronomical_Twilight     0.0\n",
       "Zipcode                   0.0\n",
       "City                      0.0\n",
       "Street                    0.0\n",
       "Country                   0.0\n",
       "Junction                  0.0\n",
       "Start_Time                0.0\n",
       "End_Time                  0.0\n",
       "Start_Lat                 0.0\n",
       "Turning_Loop              0.0\n",
       "Traffic_Signal            0.0\n",
       "Traffic_Calming           0.0\n",
       "Stop                      0.0\n",
       "Station                   0.0\n",
       "Roundabout                0.0\n",
       "Railway                   0.0\n",
       "No_Exit                   0.0\n",
       "Crossing                  0.0\n",
       "Give_Way                  0.0\n",
       "Bump                      0.0\n",
       "Amenity                   0.0\n",
       "Start_Lng                 0.0\n",
       "End_Lat                   0.0\n",
       "End_Lng                   0.0\n",
       "Distance(mi)              0.0\n",
       "Description               0.0\n",
       "Severity                  0.0\n",
       "Side                      0.0\n",
       "County                    0.0\n",
       "State                     0.0\n",
       "ID                        0.0\n",
       "dtype: float64"
      ]
     },
     "execution_count": 10,
     "metadata": {},
     "output_type": "execute_result"
    }
   ],
   "source": [
    "null_values = df.isna()\n",
    "perc_null_values = null_values.sum().sort_values(ascending = False)*100/len(df)\n",
    "perc_null_values.round()"
   ]
  },
  {
   "cell_type": "code",
   "execution_count": 11,
   "id": "98368e6b",
   "metadata": {
    "execution": {
     "iopub.execute_input": "2022-12-20T17:54:28.246816Z",
     "iopub.status.busy": "2022-12-20T17:54:28.246469Z",
     "iopub.status.idle": "2022-12-20T17:54:28.510633Z",
     "shell.execute_reply": "2022-12-20T17:54:28.509495Z"
    },
    "papermill": {
     "duration": 0.272195,
     "end_time": "2022-12-20T17:54:28.512557",
     "exception": false,
     "start_time": "2022-12-20T17:54:28.240362",
     "status": "completed"
    },
    "tags": []
   },
   "outputs": [
    {
     "data": {
      "text/plain": [
       "<AxesSubplot:>"
      ]
     },
     "execution_count": 11,
     "metadata": {},
     "output_type": "execute_result"
    },
    {
     "data": {
      "image/png": "[encoded data removed]",
      "text/plain": [
       "<Figure size 432x288 with 1 Axes>"
      ]
     },
     "metadata": {
      "needs_background": "light"
     },
     "output_type": "display_data"
    }
   ],
   "source": [
    "non_zero_perc_null_values = perc_null_values[perc_null_values != 0]\n",
    "non_zero_perc_null_values.round().plot(kind = 'barh')"
   ]
  },
  {
   "cell_type": "markdown",
   "id": "3691674d",
   "metadata": {
    "papermill": {
     "duration": 0.005069,
     "end_time": "2022-12-20T17:54:28.522986",
     "exception": false,
     "start_time": "2022-12-20T17:54:28.517917",
     "status": "completed"
    },
    "tags": []
   },
   "source": [
    "## EXPLORATORY ANALYSIS AND VISUALISATION"
   ]
  },
  {
   "cell_type": "markdown",
   "id": "8d9432b6",
   "metadata": {
    "papermill": {
     "duration": 0.004909,
     "end_time": "2022-12-20T17:54:28.533081",
     "exception": false,
     "start_time": "2022-12-20T17:54:28.528172",
     "status": "completed"
    },
    "tags": []
   },
   "source": [
    "## ASK AND ANSWER QUESTIONS"
   ]
  },
  {
   "cell_type": "markdown",
   "id": "d917fc1b",
   "metadata": {
    "papermill": {
     "duration": 0.005014,
     "end_time": "2022-12-20T17:54:28.543197",
     "exception": false,
     "start_time": "2022-12-20T17:54:28.538183",
     "status": "completed"
    },
    "tags": []
   },
   "source": [
    "1. Are there more accidents in warmer or colder areas\n",
    "2. Which 5 states have the highest number of accidents? How about per capita?\n"
   ]
  },
  {
   "cell_type": "markdown",
   "id": "5de3d082",
   "metadata": {
    "papermill": {
     "duration": 0.00504,
     "end_time": "2022-12-20T17:54:28.553362",
     "exception": false,
     "start_time": "2022-12-20T17:54:28.548322",
     "status": "completed"
    },
    "tags": []
   },
   "source": [
    "## SUMMARY AND CONCLUSION"
   ]
  }
 ],
 "metadata": {
  "kernelspec": {
   "display_name": "Python 3",
   "language": "python",
   "name": "python3"
  },
  "language_info": {
   "codemirror_mode": {
    "name": "ipython",
    "version": 3
   },
   "file_extension": ".py",
   "mimetype": "text/x-python",
   "name": "python",
   "nbconvert_exporter": "python",
   "pygments_lexer": "ipython3",
   "version": "3.7.12"
  },
  "papermill": {
   "default_parameters": {},
   "duration": 44.494998,
   "end_time": "2022-12-20T17:54:29.681077",
   "environment_variables": {},
   "exception": null,
   "input_path": "__notebook__.ipynb",
   "output_path": "__notebook__.ipynb",
   "parameters": {},
   "start_time": "2022-12-20T17:53:45.186079",
   "version": "2.3.4"
  }
 },
 "nbformat": 4,
 "nbformat_minor": 5
}
